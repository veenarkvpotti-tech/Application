{
  "nbformat": 4,
  "nbformat_minor": 0,
  "metadata": {
    "colab": {
      "provenance": [],
      "authorship_tag": "ABX9TyOM5dQ66MIu0AbJLnGJSAHp",
      "include_colab_link": true
    },
    "kernelspec": {
      "name": "python3",
      "display_name": "Python 3"
    },
    "language_info": {
      "name": "python"
    }
  },
  "cells": [
    {
      "cell_type": "markdown",
      "metadata": {
        "id": "view-in-github",
        "colab_type": "text"
      },
      "source": [
        "<a href=\"https://colab.research.google.com/github/veenarkvpotti-tech/Application/blob/main/Task1.ipynb\" target=\"_parent\"><img src=\"https://colab.research.google.com/assets/colab-badge.svg\" alt=\"Open In Colab\"/></a>"
      ]
    },
    {
      "cell_type": "code",
      "source": [
        "#1. BANK ACCOUNT\n",
        "\n",
        "class BankAccount:\n",
        "    def __init__(self, account_number, initial_balance=0):\n",
        "        self.account_number = account_number\n",
        "        self.balance = initial_balance\n",
        "\n",
        "    def deposit(self, amount):\n",
        "        if amount > 0:\n",
        "            self.balance += amount\n",
        "            print(\"Deposited\")\n",
        "        else:\n",
        "            print(\"Deposit atleast one rupee.\")\n",
        "\n",
        "    def withdraw(self, amount):\n",
        "        if amount > 0:\n",
        "            if self.balance >= amount:\n",
        "                self.balance -= amount\n",
        "                print(\"Withdrew\")\n",
        "            else:\n",
        "                print(\"Insufficient funds.\")\n",
        "\n",
        "    def check_balance(self):\n",
        "        print(\"Current balance\")\n",
        "\n",
        "class SavingsAccount(BankAccount):\n",
        "    def __init__(self, account_number, initial_balance=0, interest_rate=0.01):\n",
        "        super().__init__(account_number, initial_balance)\n",
        "        self.interest_rate = interest_rate\n",
        "\n",
        "    def add_interest(self):\n",
        "        interest = self.balance * self.interest_rate\n",
        "        self.balance += interest\n",
        "        print(\"Interest added\")\n",
        "\n",
        "class CurrentAccount(BankAccount):\n",
        "    def __init__(self, account_number, initial_balance=0, credit_limit=1000):\n",
        "        super().__init__(account_number, initial_balance)\n",
        "        self.credit_limit = credit_limit\n",
        "\n",
        "    def withdraw(self, amount):\n",
        "        if amount > 0:\n",
        "            if self.balance + self.credit_limit >= amount:\n",
        "                self.balance -= amount\n",
        "                print(\"Withdrew\")\n",
        "            else:\n",
        "                print(\"Withdrawal amount exceeds credit limit.\")\n",
        "        else:\n",
        "            print(\"Withdrawal amount must be positive.\")\n",
        "\n",
        "\n",
        "account1 = BankAccount(\"12345\")\n",
        "account1.deposit(1000)\n",
        "account1.withdraw(200)\n",
        "account1.check_balance()\n",
        "print(\"Account\", account1.account_number, \"balance:\", account1.balance)\n",
        "\n",
        "\n",
        "savings_account = SavingsAccount(\"67890\", initial_balance=5000)\n",
        "savings_account.deposit(1000)\n",
        "savings_account.add_interest()\n",
        "savings_account.check_balance()\n",
        "print(\"Savings Account\", savings_account.account_number, \"balance:\", savings_account.balance)\n",
        "\n",
        "\n",
        "current_account = CurrentAccount(\"54321\", initial_balance=2000)\n",
        "current_account.deposit(500)\n",
        "current_account.withdraw(3000) # This will use the overdraft\n",
        "current_account.check_balance()\n",
        "print(\"Current Account\", current_account.account_number, \"balance:\", current_account.balance)"
      ],
      "metadata": {
        "id": "wO4-eECA_u3A",
        "colab": {
          "base_uri": "https://localhost:8080/"
        },
        "outputId": "bdc6c2a2-c91d-49ed-8dc6-179037dce2dc"
      },
      "execution_count": 12,
      "outputs": [
        {
          "output_type": "stream",
          "name": "stdout",
          "text": [
            "Deposited\n",
            "Withdrew\n",
            "Current balance\n",
            "Account 12345 balance: 800\n",
            "Deposited\n",
            "Interest added\n",
            "Current balance\n",
            "Savings Account 67890 balance: 6060.0\n",
            "Deposited\n",
            "Withdrew\n",
            "Current balance\n",
            "Current Account 54321 balance: -500\n"
          ]
        }
      ]
    },
    {
      "cell_type": "code",
      "source": [
        "#2. LIBRARY MANAGEMENT SYSTEM\n",
        "\n",
        "\n",
        "\n",
        "class BookNotAvailableError(Exception):\n",
        "    pass\n",
        "\n",
        "class BookNotBorrowedError(Exception):\n",
        "    pass\n",
        "\n",
        "\n",
        "class Book:\n",
        "    def __init__(self, title, author):\n",
        "        self.title = title\n",
        "        self.author = author\n",
        "        self.is_borrowed = False\n",
        "\n",
        "\n",
        "class Member:\n",
        "    def __init__(self, name):\n",
        "        self.name = name\n",
        "        self.borrowed = []\n",
        "\n",
        "    def borrow_book(self, book, library):\n",
        "        if book.is_borrowed:\n",
        "            raise BookNotAvailableError(book.title + \" is not available\")\n",
        "        else:\n",
        "            book.is_borrowed = True\n",
        "            self.borrowed.append(book)\n",
        "            print(self.name + \" borrowed \" + book.title)\n",
        "\n",
        "    def return_book(self, book, library):\n",
        "        if book not in self.borrowed:\n",
        "            raise BookNotBorrowedError(self.name + \" did not borrow \" + book.title)\n",
        "        else:\n",
        "            book.is_borrowed = False\n",
        "            self.borrowed.remove(book)\n",
        "            print(self.name + \" returned \" + book.title)\n",
        "\n",
        "\n",
        "class Library:\n",
        "    def __init__(self):\n",
        "        self.books = []\n",
        "\n",
        "    def add_book(self, book):\n",
        "        self.books.append(book)\n",
        "\n",
        "    def show_available(self):\n",
        "        print(\"Available books:\")\n",
        "        for b in self.books:\n",
        "            if not b.is_borrowed:\n",
        "                print(\"-\", b.title, \"by\", b.author)\n",
        "\n",
        "    def show_borrowed(self):\n",
        "        print(\"Borrowed books:\")\n",
        "        for b in self.books:\n",
        "            if b.is_borrowed:\n",
        "                print(\"-\", b.title, \"by\", b.author)\n",
        "\n",
        "\n",
        "\n",
        "lib = Library()\n",
        "\n",
        "b1 = Book(\"1984\", \"George \")\n",
        "b2 = Book(\"The Hobbit\", \"J.R.R\")\n",
        "\n",
        "lib.add_book(b1)\n",
        "lib.add_book(b2)\n",
        "\n",
        "m1 = Member(\"Adwith\")\n",
        "m2 = Member(\"Raj\")\n",
        "\n",
        "\n",
        "m1.borrow_book(b1, lib)\n",
        "try:\n",
        "    m2.borrow_book(b1, lib)\n",
        "except Exception as e:\n",
        "    print(e)\n",
        "\n",
        "\n",
        "m1.return_book(b1, lib)\n",
        "try:\n",
        "    m2.return_book(b2, lib)\n",
        "except Exception as e:\n",
        "    print(e)\n",
        "\n",
        "\n",
        "lib.show_available()\n",
        "lib.show_borrowed()\n",
        "\n",
        "\n"
      ],
      "metadata": {
        "id": "DrqW6uV5Ekih",
        "colab": {
          "base_uri": "https://localhost:8080/"
        },
        "outputId": "c7478015-b281-4967-d23a-17dc7e8c41f2"
      },
      "execution_count": 18,
      "outputs": [
        {
          "output_type": "stream",
          "name": "stdout",
          "text": [
            "Adwith borrowed 1984\n",
            "1984 is not available\n",
            "Adwith returned 1984\n",
            "Raj did not borrow The Hobbit\n",
            "Available books:\n",
            "- 1984 by George \n",
            "- The Hobbit by J.R.R\n",
            "Borrowed books:\n"
          ]
        }
      ]
    },
    {
      "cell_type": "code",
      "source": [
        "#3 EMPLOYEE PAYROLL SYSTEM\n",
        "\n",
        "class Employee:\n",
        "    def __init__(self, name, base_salary):\n",
        "        self.name = name\n",
        "        self.base_salary = base_salary\n",
        "\n",
        "    def compute_salary(self):\n",
        "\n",
        "        return self.base_salary\n",
        "\n",
        "\n",
        "\n",
        "class Manager(Employee):\n",
        "    def __init__(self, name, base_salary, bonus):\n",
        "        super().__init__(name, base_salary)\n",
        "        self.bonus = bonus\n",
        "\n",
        "    def compute_salary(self):\n",
        "        return self.base_salary + self.bonus\n",
        "\n",
        "\n",
        "\n",
        "class Developer(Employee):\n",
        "    def __init__(self, name, base_salary, overtime_hours, overtime_rate):\n",
        "        super().__init__(name, base_salary)\n",
        "        self.overtime_hours = overtime_hours\n",
        "        self.overtime_rate = overtime_rate\n",
        "\n",
        "    def compute_salary(self):\n",
        "        overtime_pay = self.overtime_hours * self.overtime_rate\n",
        "        return self.base_salary + overtime_pay\n",
        "\n",
        "\n",
        "\n",
        "class Intern(Employee):\n",
        "    def __init__(self, name, stipend, deduction):\n",
        "        super().__init__(name, stipend)\n",
        "        self.deduction = deduction\n",
        "\n",
        "    def compute_salary(self):\n",
        "        return self.base_salary - self.deduction\n",
        "\n",
        "\n",
        "\n",
        "if __name__ == \"__main__\":\n",
        "    m = Manager(\"Hari krishnan (Manager)\", 50000, 10000)\n",
        "    d = Developer(\"Muarali Hari (Developer)\", 40000, 20, 200)\n",
        "    i = Intern(\"Laila (Intern)\", 15000, 2000)\n",
        "\n",
        "    employees = [m, d, i]\n",
        "\n",
        "    for emp in employees:\n",
        "        print(emp.name, \"Monthly Salary:\", emp.compute_salary())\n"
      ],
      "metadata": {
        "colab": {
          "base_uri": "https://localhost:8080/"
        },
        "id": "smmFFwKncjh_",
        "outputId": "e223e4ad-f134-4621-ef3a-df6332e8e9a7"
      },
      "execution_count": 21,
      "outputs": [
        {
          "output_type": "stream",
          "name": "stdout",
          "text": [
            "Hari krishnan (Manager) Monthly Salary: 60000\n",
            "Muarali Hari (Developer) Monthly Salary: 44000\n",
            "Laila (Intern) Monthly Salary: 13000\n"
          ]
        }
      ]
    },
    {
      "cell_type": "code",
      "source": [],
      "metadata": {
        "id": "HCphA-EIidLl"
      },
      "execution_count": null,
      "outputs": []
    },
    {
      "cell_type": "code",
      "source": [
        "#4. Write a function to all armstrong numbers with in a given range using recursion\n",
        "\n",
        "def power_sum(n, p):\n",
        "    if n == 0:\n",
        "        return 0\n",
        "    return (n % 10) ** p + power_sum(n // 10, p)\n",
        "\n",
        "def is_armstrong(n):\n",
        "    return n == power_sum(n, len(str(n)))\n",
        "\n",
        "def armstrong_range(start, end):\n",
        "    if start > end:\n",
        "        return\n",
        "    if is_armstrong(start):\n",
        "        print(start, end=\" \")\n",
        "    armstrong_range(start + 1, end)\n",
        "\n",
        "armstrong_range(100,1000)\n",
        "\n",
        "\n",
        "\n"
      ],
      "metadata": {
        "id": "u7SOS1uzhF7X",
        "colab": {
          "base_uri": "https://localhost:8080/"
        },
        "outputId": "bf057d3e-f186-4ea3-a41e-de8dda66b396"
      },
      "execution_count": 23,
      "outputs": [
        {
          "output_type": "stream",
          "name": "stdout",
          "text": [
            "153 370 371 407 "
          ]
        }
      ]
    },
    {
      "cell_type": "code",
      "source": [
        "# 5.POLYNOMIAL EVALUATION\n",
        "\n",
        "\n",
        "def evaluate_polynomial(coef, x):\n",
        "\n",
        "    result = 0\n",
        "    power = len(coef) - 1\n",
        "    for coef in coef:\n",
        "        result += coef * (x ** power)\n",
        "        power -= 1\n",
        "    return result\n",
        "\n",
        "coefficients = [3, 2, 0, 0]\n",
        "x = 5\n",
        "\n",
        "print(\"f(\", x, \") =\", evaluate_polynomial(coefficients, x))\n"
      ],
      "metadata": {
        "colab": {
          "base_uri": "https://localhost:8080/"
        },
        "id": "AO0rTyP4lj2i",
        "outputId": "2e154df6-fec3-4ee3-c208-775cdafd618e"
      },
      "execution_count": 26,
      "outputs": [
        {
          "output_type": "stream",
          "name": "stdout",
          "text": [
            "f( 5 ) = 425\n"
          ]
        }
      ]
    },
    {
      "cell_type": "code",
      "source": [
        "# 6 QUATRATIC EQUATION SOLVER\n",
        "\n",
        "\n",
        "import cmath\n",
        "\n",
        "def q_root(a, b, c):\n",
        "\n",
        "    d = b**2 - 4*a*c\n",
        "\n",
        "\n",
        "    root1 = (-b + cmath.sqrt(d)) / (2*a)\n",
        "    root2 = (-b - cmath.sqrt(d)) / (2*a)\n",
        "\n",
        "    return root1, root2\n",
        "\n",
        "\n",
        "a = 1\n",
        "b = 2\n",
        "c = 5\n",
        "\n",
        "r1, r2 = q_root(a, b, c)\n",
        "print(\"Roots are:\", r1, \"and\", r2)\n"
      ],
      "metadata": {
        "colab": {
          "base_uri": "https://localhost:8080/"
        },
        "id": "aUZMBtsem8gI",
        "outputId": "8ce5c746-cbe4-4f79-acd4-68d73e132ac9"
      },
      "execution_count": 37,
      "outputs": [
        {
          "output_type": "stream",
          "name": "stdout",
          "text": [
            "Roots are: (-1+2j) and (-1-2j)\n"
          ]
        }
      ]
    },
    {
      "cell_type": "code",
      "source": [
        "#7 Currency denomination calculator.\n",
        "\n",
        "\n",
        "def c_calc(amount):\n",
        "\n",
        "    denominations = [100, 50, 20, 10, 5, 2, 1]\n",
        "\n",
        "    print(\"Amount:\", amount)\n",
        "    for note in denominations:\n",
        "        count = amount // note\n",
        "        if count != 0:\n",
        "            print(str(count) + \" * \" + str(note))\n",
        "        amount = amount % note\n",
        "\n",
        "c_calc(275)\n",
        "\n"
      ],
      "metadata": {
        "colab": {
          "base_uri": "https://localhost:8080/"
        },
        "id": "KUP-O2hkq29c",
        "outputId": "d2aa38c5-cadc-452f-f992-b98190d62145"
      },
      "execution_count": 28,
      "outputs": [
        {
          "output_type": "stream",
          "name": "stdout",
          "text": [
            "Amount: 275\n",
            "2 * 100\n",
            "1 * 50\n",
            "1 * 20\n",
            "1 * 5\n"
          ]
        }
      ]
    },
    {
      "cell_type": "code",
      "source": [
        "# 8. BUTTERFLY PATTERN\n",
        "# to create a butterfly star pattern\n",
        "\n",
        "def bpattern(n):\n",
        "\n",
        "    for i in range(1, n+1):\n",
        "        print(\"*\" * i + \" \" * (2*(n-i)) + \"*\" * i)\n",
        "\n",
        "\n",
        "    for i in range(n, 0, -1):\n",
        "        print(\"*\" * i + \" \" * (2*(n-i)) + \"*\" * i)\n",
        "\n",
        "\n",
        "bpattern(5)\n",
        "\n",
        "\n"
      ],
      "metadata": {
        "colab": {
          "base_uri": "https://localhost:8080/"
        },
        "id": "xNTMOaGYs6Mv",
        "outputId": "89886547-99cf-484e-e12f-d0146b00a1cd"
      },
      "execution_count": 29,
      "outputs": [
        {
          "output_type": "stream",
          "name": "stdout",
          "text": [
            "*        *\n",
            "**      **\n",
            "***    ***\n",
            "****  ****\n",
            "**********\n",
            "**********\n",
            "****  ****\n",
            "***    ***\n",
            "**      **\n",
            "*        *\n"
          ]
        }
      ]
    },
    {
      "cell_type": "code",
      "source": [
        "#9.CONCENTRIC SQAUE NUMBERS\n",
        "\n",
        "def con_square(n):\n",
        "    size = 2 * n - 1\n",
        "\n",
        "    for i in range(size):\n",
        "        for j in range(size):\n",
        "\n",
        "            top = i\n",
        "            left = j\n",
        "            right = size - 1 - j\n",
        "            bottom = size - 1 - i\n",
        "\n",
        "            min_dist = min(top, left, right, bottom)\n",
        "            print(n - min_dist,end=\"\")\n",
        "        print()\n",
        "\n",
        "\n",
        "con_square(4)\n",
        "\n"
      ],
      "metadata": {
        "colab": {
          "base_uri": "https://localhost:8080/"
        },
        "id": "5hvK0kQUtnjj",
        "outputId": "810be869-f72d-436b-e7ad-3b2d9686d233"
      },
      "execution_count": 36,
      "outputs": [
        {
          "output_type": "stream",
          "name": "stdout",
          "text": [
            "4444444\n",
            "4333334\n",
            "4322234\n",
            "4321234\n",
            "4322234\n",
            "4333334\n",
            "4444444\n"
          ]
        }
      ]
    },
    {
      "cell_type": "code",
      "source": [
        "#10.Hourglass pattern\n",
        "\n",
        "def h_glass(n):\n",
        "\n",
        "    for i in range(n, 0, -1):\n",
        "        print(\" \" * (n - i) + \"* \" * i)\n",
        "\n",
        "\n",
        "    for i in range(2, n+1):\n",
        "        print(\" \" * (n - i) + \"* \" * i)\n",
        "\n",
        "\n",
        "h_glass(5)\n"
      ],
      "metadata": {
        "colab": {
          "base_uri": "https://localhost:8080/"
        },
        "id": "9jvTJAddvXh-",
        "outputId": "f8503ed3-4d7e-4d53-c3fa-67e066e96596"
      },
      "execution_count": 38,
      "outputs": [
        {
          "output_type": "stream",
          "name": "stdout",
          "text": [
            "* * * * * \n",
            " * * * * \n",
            "  * * * \n",
            "   * * \n",
            "    * \n",
            "   * * \n",
            "  * * * \n",
            " * * * * \n",
            "* * * * * \n"
          ]
        }
      ]
    }
  ]
}